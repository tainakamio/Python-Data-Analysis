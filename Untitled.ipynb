{
 "cells": [
  {
   "cell_type": "code",
   "execution_count": 1,
   "metadata": {},
   "outputs": [],
   "source": [
    "import numpy as np"
   ]
  },
  {
   "cell_type": "code",
   "execution_count": 2,
   "metadata": {},
   "outputs": [],
   "source": [
    "a = np.random.randn(100,100)"
   ]
  },
  {
   "cell_type": "code",
   "execution_count": 3,
   "metadata": {},
   "outputs": [
    {
     "data": {
      "text/plain": [
       "array([[ 0.1272518 , -0.07182853, -1.26327929, ...,  0.86070556,\n",
       "         0.72904318, -1.6782497 ],\n",
       "       [ 0.70897533, -0.31206953,  0.79070662, ...,  0.59027745,\n",
       "         0.40021828, -1.42518461],\n",
       "       [ 0.09255615,  1.50374515, -1.03809726, ...,  1.52186165,\n",
       "        -0.21079583,  1.25013826],\n",
       "       ...,\n",
       "       [-0.36680782, -0.37422253,  2.05821732, ...,  0.54477175,\n",
       "         1.06296919,  0.18147844],\n",
       "       [-0.25234559,  1.28932827, -1.92886974, ...,  0.2884647 ,\n",
       "        -0.03883129, -1.36732292],\n",
       "       [-0.45076723,  0.98477829,  0.9402767 , ...,  0.18369457,\n",
       "        -1.30320577,  0.93372213]])"
      ]
     },
     "execution_count": 3,
     "metadata": {},
     "output_type": "execute_result"
    }
   ],
   "source": [
    "a"
   ]
  },
  {
   "cell_type": "code",
   "execution_count": 4,
   "metadata": {},
   "outputs": [],
   "source": [
    "b=np.dot(a,a)"
   ]
  },
  {
   "cell_type": "code",
   "execution_count": 5,
   "metadata": {},
   "outputs": [
    {
     "data": {
      "text/plain": [
       "array([[ -6.19274349,  -2.96698701,  -1.15972297, ...,  13.34480369,\n",
       "         14.93606876,   1.74711814],\n",
       "       [ -7.39665238,   5.72941358,   3.16546403, ...,  22.90819631,\n",
       "         15.48174442, -15.64808219],\n",
       "       [ 18.33644029,  -4.98293754,  27.67240072, ..., -13.61442739,\n",
       "         -0.04848004,   9.16156113],\n",
       "       ...,\n",
       "       [  5.80323991,  -9.03363631,   0.96792325, ..., -15.81713926,\n",
       "         -3.40217371,   2.54728079],\n",
       "       [  6.34331379,  14.95822174,  -4.3675107 , ...,   8.16134922,\n",
       "          3.89393639, -12.04981547],\n",
       "       [  1.44085034,   2.30341283,   9.87741738, ...,   8.55670464,\n",
       "         21.61086026,  -0.48747269]])"
      ]
     },
     "execution_count": 5,
     "metadata": {},
     "output_type": "execute_result"
    }
   ],
   "source": [
    "b"
   ]
  },
  {
   "cell_type": "code",
   "execution_count": 7,
   "metadata": {},
   "outputs": [],
   "source": [
    "import matplotlib.pyplot as plt"
   ]
  },
  {
   "cell_type": "code",
   "execution_count": 12,
   "metadata": {},
   "outputs": [
    {
     "data": {
      "image/png": "[encoded data removed]",
      "text/plain": [
       "<Figure size 432x288 with 1 Axes>"
      ]
     },
     "metadata": {
      "needs_background": "light"
     },
     "output_type": "display_data"
    }
   ],
   "source": [
    "plt.plot(np.random.randn(100).cumsum());"
   ]
  },
  {
   "cell_type": "code",
   "execution_count": null,
   "metadata": {},
   "outputs": [],
   "source": []
  }
 ],
 "metadata": {
  "kernelspec": {
   "display_name": "Python 3",
   "language": "python",
   "name": "python3"
  },
  "language_info": {
   "codemirror_mode": {
    "name": "ipython",
    "version": 3
   },
   "file_extension": ".py",
   "mimetype": "text/x-python",
   "name": "python",
   "nbconvert_exporter": "python",
   "pygments_lexer": "ipython3",
   "version": "3.7.6"
  }
 },
 "nbformat": 4,
 "nbformat_minor": 4
}
